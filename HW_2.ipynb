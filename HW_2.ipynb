{
  "nbformat": 4,
  "nbformat_minor": 0,
  "metadata": {
    "colab": {
      "provenance": [],
      "authorship_tag": "ABX9TyNNaXNppNrjfEQBNe6CyEGQ",
      "include_colab_link": true
    },
    "kernelspec": {
      "name": "python3",
      "display_name": "Python 3"
    },
    "language_info": {
      "name": "python"
    }
  },
  "cells": [
    {
      "cell_type": "markdown",
      "metadata": {
        "id": "view-in-github",
        "colab_type": "text"
      },
      "source": [
        "<a href=\"https://colab.research.google.com/github/sharon8y/SquareTracking/blob/main/HW_2.ipynb\" target=\"_parent\"><img src=\"https://colab.research.google.com/assets/colab-badge.svg\" alt=\"Open In Colab\"/></a>"
      ]
    },
    {
      "cell_type": "markdown",
      "source": [
        "working with Keras library, create a deep learning machine for conversion of temperature from C to F. Then, Build a dataset, feature is degress in celsius, response is degress in Farenheit, make 10 samples."
      ],
      "metadata": {
        "id": "2PtJgFAnj5qy"
      }
    },
    {
      "cell_type": "markdown",
      "source": [
        "now, please calculate the error using ‘mean squared error’ and learning rate 0.01 and using the optimization algo ADAM. now create the fit function that will train the model, please write a training that has  500 epochs and batch size = 1. please make a prediction by taking  a Celsius that's not in the dataset, and pass it through the model.\n"
      ],
      "metadata": {
        "id": "YdwzXEzfke_5"
      }
    },
    {
      "cell_type": "code",
      "source": [
        "import numpy as np\n",
        "from keras.models import Sequential\n",
        "from keras.layers import Dense\n",
        "from keras.optimizers import Adam\n",
        "\n",
        "# Function to convert Celsius to Fahrenheit\n",
        "def celsius_to_fahrenheit(c):\n",
        "    return c * 9/5 + 32\n",
        "\n",
        "# Function to create and train the model\n",
        "def train_model(X, y, epochs=1000, learning_rate=0.01):\n",
        "    # Creating a simple neural network model using Keras\n",
        "    model = Sequential()\n",
        "    model.add(Dense(1, input_shape=(1,)))  # Single neuron for a simple linear model\n",
        "\n",
        "    # Compiling the model with Mean Squared Error loss and Adam optimizer with learning rate\n",
        "    opt = Adam(learning_rate=learning_rate)\n",
        "    model.compile(optimizer=opt, loss='mean_squared_error')\n",
        "\n",
        "    # Training the model\n",
        "    model.fit(X, y, epochs=epochs, verbose=0)  # Training for specified number of epochs\n",
        "\n",
        "    return model\n",
        "\n",
        "# Generating 10 random Celsius temperatures\n",
        "celsius_degrees = np.random.randint(-100, 100, 10)\n",
        "\n",
        "# Converting Celsius temperatures to Fahrenheit\n",
        "fahrenheit_degrees = [celsius_to_fahrenheit(c) for c in celsius_degrees]\n",
        "\n",
        "# Creating the dataset\n",
        "data = np.array(list(zip(celsius_degrees, fahrenheit_degrees)))\n",
        "\n",
        "# Splitting features and labels\n",
        "X = data[:, 0]  # Celsius temperatures\n",
        "y = data[:, 1]  # Corresponding Fahrenheit temperatures\n",
        "\n",
        "# Training the model using the train_model function\n",
        "trained_model = train_model(X, y, epochs=1000, learning_rate=0.01)\n",
        "\n",
        "# Predicting Fahrenheit temperatures for new Celsius values\n",
        "celsius_test = np.array([50, 60, 70])  # Example test Celsius temperatures\n",
        "fahrenheit_predictions = trained_model.predict(celsius_test)\n",
        "\n",
        "# Displaying the predictions\n",
        "for i in range(len(celsius_test)):\n",
        "    print(f\"{celsius_test[i]} degrees Celsius = {fahrenheit_predictions[i][0]} degrees Fahrenheit\")\n",
        "\n",
        "# Evaluating the model using Mean Squared Error on the training data\n",
        "mse = trained_model.evaluate(X, y)\n",
        "print(f\"Mean Squared Error (MSE) on the training data: {mse}\")\n"
      ],
      "metadata": {
        "colab": {
          "base_uri": "https://localhost:8080/"
        },
        "id": "YiF1PBGwkfiD",
        "outputId": "a5a07eae-cdf6-4059-ecce-2086b2ccb5cf"
      },
      "execution_count": 5,
      "outputs": [
        {
          "output_type": "stream",
          "name": "stdout",
          "text": [
            "1/1 [==============================] - 0s 70ms/step\n",
            "50 degrees Celsius = 99.33646392822266 degrees Fahrenheit\n",
            "60 degrees Celsius = 117.34957122802734 degrees Fahrenheit\n",
            "70 degrees Celsius = 135.3626708984375 degrees Fahrenheit\n",
            "1/1 [==============================] - 0s 145ms/step - loss: 516.6033\n",
            "Mean Squared Error (MSE) on the training data: 516.6033325195312\n"
          ]
        }
      ]
    },
    {
      "cell_type": "code",
      "source": [
        "#please make a prediction by taking  a Celsius that's not in the dataset, and pass it through the model. Write ONLY the code for the prediction, to be added in another slot in google colab"
      ],
      "metadata": {
        "id": "S46N_o0Rm7DJ"
      },
      "execution_count": 14,
      "outputs": []
    },
    {
      "cell_type": "code",
      "source": [
        "# Assuming 'trained_model' is the trained model from the previous code\n",
        "\n",
        "# Celsius temperature not in the dataset\n",
        "new_celsius_temp = 80\n",
        "\n",
        "# Reshape the input to match the model's input shape (1,)\n",
        "new_celsius_temp = np.array(new_celsius_temp).reshape(-1, 1)\n",
        "\n",
        "# Predicting Fahrenheit temperature for the new Celsius value using the trained model\n",
        "predicted_fahrenheit = trained_model.predict(new_celsius_temp)\n",
        "\n",
        "# Displaying the prediction\n",
        "print(f\"{new_celsius_temp[0][0]} degrees Celsius = {predicted_fahrenheit[0][0]} degrees Fahrenheit\")\n"
      ],
      "metadata": {
        "colab": {
          "base_uri": "https://localhost:8080/"
        },
        "id": "0U8P_mRmtv-j",
        "outputId": "6d6c21b8-9b62-4d14-ce45-22f78f6c9a99"
      },
      "execution_count": 15,
      "outputs": [
        {
          "output_type": "stream",
          "name": "stdout",
          "text": [
            "1/1 [==============================] - 0s 49ms/step\n",
            "80 degrees Celsius = 173.61878967285156 degrees Fahrenheit\n"
          ]
        }
      ]
    },
    {
      "cell_type": "markdown",
      "source": [
        "Show me the weights of the model: w0, w1, bias"
      ],
      "metadata": {
        "id": "bkyquy4dngsV"
      }
    },
    {
      "cell_type": "code",
      "source": [
        "# Getting the weights of the trained model\n",
        "weights = trained_model.get_weights()\n",
        "\n",
        "# Extracting the weights w0, w1, and the bias term\n",
        "w0 = weights[0][0]  # Weight of the neuron\n",
        "bias = weights[1][0]  # Bias term\n",
        "\n",
        "print(f\"w0 (Weight): {w0}\")\n",
        "print(f\"bias: {bias}\")\n"
      ],
      "metadata": {
        "colab": {
          "base_uri": "https://localhost:8080/"
        },
        "id": "k0HmAYSAt99H",
        "outputId": "fe81b31b-438c-47fc-ef87-a103ec43603c"
      },
      "execution_count": 17,
      "outputs": [
        {
          "output_type": "stream",
          "name": "stdout",
          "text": [
            "w0 (Weight): [1.8474244]\n",
            "bias: 25.82484245300293\n"
          ]
        }
      ]
    },
    {
      "cell_type": "markdown",
      "source": [
        "could you create another code to modify the current model so it gets closer to the celsius to farenhait conversion equation?"
      ],
      "metadata": {
        "id": "CL15DdqYu_KJ"
      }
    },
    {
      "cell_type": "code",
      "source": [
        "import numpy as np\n",
        "from keras.models import Sequential\n",
        "from keras.layers import Dense\n",
        "from keras.optimizers import Adam\n",
        "\n",
        "# Function to convert Celsius to Fahrenheit\n",
        "def celsius_to_fahrenheit(c):\n",
        "    return c * 9/5 + 32\n",
        "\n",
        "# Function to create and train the improved model\n",
        "def improve_model(X, y, epochs=1000, learning_rate=0.01, batch_size=1):\n",
        "    # Creating a more complex neural network model using Keras\n",
        "    model = Sequential()\n",
        "    model.add(Dense(64, input_shape=(1,), activation='relu'))  # Adding a hidden layer with 64 neurons and ReLU activation\n",
        "    model.add(Dense(32, activation='relu'))  # Another hidden layer with 32 neurons and ReLU activation\n",
        "    model.add(Dense(1))  # Output layer with 1 neuron (for regression tasks)\n",
        "\n",
        "    # Compiling the model with Mean Squared Error loss and Adam optimizer with learning rate\n",
        "    opt = Adam(learning_rate=learning_rate)\n",
        "    model.compile(optimizer=opt, loss='mean_squared_error')\n",
        "\n",
        "    # Training the model with specified epochs and batch size\n",
        "    model.fit(X, y, epochs=epochs, batch_size=batch_size, verbose=0)\n",
        "\n",
        "    return model\n",
        "\n",
        "# Generating 10 random Celsius temperatures\n",
        "celsius_degrees = np.random.randint(-100, 100, 10)\n",
        "\n",
        "# Converting Celsius temperatures to Fahrenheit\n",
        "fahrenheit_degrees = [celsius_to_fahrenheit(c) for c in celsius_degrees]\n",
        "\n",
        "# Creating the dataset\n",
        "data = np.array(list(zip(celsius_degrees, fahrenheit_degrees)))\n",
        "\n",
        "# Splitting features and labels\n",
        "X = data[:, 0]  # Celsius temperatures\n",
        "y = data[:, 1]  # Corresponding Fahrenheit temperatures\n",
        "\n",
        "# Training the improved model using the improve_model function with 500 epochs and batch size = 1\n",
        "improved_model = improve_model(X, y, epochs=500, learning_rate=0.01, batch_size=1)\n",
        "\n",
        "# Predicting Fahrenheit temperatures for new Celsius values\n",
        "celsius_test = np.array([50, 60, 70])  # Example test Celsius temperatures\n",
        "fahrenheit_predictions = improved_model.predict(celsius_test)\n",
        "\n",
        "# Displaying the predictions\n",
        "for i in range(len(celsius_test)):\n",
        "    print(f\"{celsius_test[i]} degrees Celsius = {fahrenheit_predictions[i][0]} degrees Fahrenheit\")\n",
        "\n",
        "# Evaluating the model using Mean Squared Error on the training data\n",
        "mse = improved_model.evaluate(X, y)\n",
        "print(f\"Mean Squared Error (MSE) on the training data: {mse}\")\n"
      ],
      "metadata": {
        "colab": {
          "base_uri": "https://localhost:8080/"
        },
        "id": "QzMRl1XiuSiz",
        "outputId": "e0d41401-033f-44ae-9bff-56c452925476"
      },
      "execution_count": 18,
      "outputs": [
        {
          "output_type": "stream",
          "name": "stdout",
          "text": [
            "1/1 [==============================] - 0s 91ms/step\n",
            "50 degrees Celsius = 121.59913635253906 degrees Fahrenheit\n",
            "60 degrees Celsius = 139.68478393554688 degrees Fahrenheit\n",
            "70 degrees Celsius = 157.77041625976562 degrees Fahrenheit\n",
            "1/1 [==============================] - 0s 105ms/step - loss: 22.5947\n",
            "Mean Squared Error (MSE) on the training data: 22.594676971435547\n"
          ]
        }
      ]
    },
    {
      "cell_type": "markdown",
      "source": [
        "please create a graph of the learning, on the x-axis epoch and on y-axis the MSE"
      ],
      "metadata": {
        "id": "pbkIYvwGvQBI"
      }
    },
    {
      "cell_type": "code",
      "source": [
        "import numpy as np\n",
        "import matplotlib.pyplot as plt\n",
        "from keras.models import Sequential\n",
        "from keras.layers import Dense\n",
        "from keras.optimizers import Adam\n",
        "\n",
        "# Function to convert Celsius to Fahrenheit\n",
        "def celsius_to_fahrenheit(c):\n",
        "    return c * 9/5 + 32\n",
        "\n",
        "# Function to create and train the model\n",
        "def train_model(X, y, epochs=1000, learning_rate=0.01, batch_size=1):\n",
        "    # Creating a simple neural network model using Keras\n",
        "    model = Sequential()\n",
        "    model.add(Dense(1, input_shape=(1,)))  # Single neuron for a simple linear model\n",
        "\n",
        "    # Compiling the model with Mean Squared Error loss and Adam optimizer with learning rate\n",
        "    opt = Adam(learning_rate=learning_rate)\n",
        "    model.compile(optimizer=opt, loss='mean_squared_error')\n",
        "\n",
        "    # Lists to store MSE and epoch values\n",
        "    mse_values = []\n",
        "    epoch_values = []\n",
        "\n",
        "    # Training the model and storing MSE and epoch values for each epoch\n",
        "    for epoch in range(epochs):\n",
        "        history = model.fit(X, y, epochs=1, batch_size=batch_size, verbose=0)\n",
        "        mse = history.history['loss'][0]\n",
        "        mse_values.append(mse)\n",
        "        epoch_values.append(epoch + 1)\n",
        "\n",
        "    # Plotting the graph of MSE vs. epochs\n",
        "    plt.figure(figsize=(8, 6))\n",
        "    plt.plot(epoch_values, mse_values, label='Training MSE')\n",
        "    plt.title('Training MSE vs. Epochs')\n",
        "    plt.xlabel('Epochs')\n",
        "    plt.ylabel('Mean Squared Error (MSE)')\n",
        "    plt.legend()\n",
        "    plt.grid(True)\n",
        "    plt.show()\n",
        "\n",
        "    return model\n",
        "\n",
        "# Generating 10 random Celsius temperatures\n",
        "celsius_degrees = np.random.randint(-100, 100, 10)\n",
        "\n",
        "# Converting Celsius temperatures to Fahrenheit\n",
        "fahrenheit_degrees = [celsius_to_fahrenheit(c) for c in celsius_degrees]\n",
        "\n",
        "# Creating the dataset\n",
        "data = np.array(list(zip(celsius_degrees, fahrenheit_degrees)))\n",
        "\n",
        "# Splitting features and labels\n",
        "X = data[:, 0]  # Celsius temperatures\n",
        "y = data[:, 1]  # Corresponding Fahrenheit temperatures\n",
        "\n",
        "# Training the model and plotting the graph\n",
        "_ = train_model(X, y, epochs=500, learning_rate=0.01, batch_size=1)\n"
      ],
      "metadata": {
        "colab": {
          "base_uri": "https://localhost:8080/",
          "height": 564
        },
        "id": "HdxjElc_vBR8",
        "outputId": "55e8d94f-b1a6-42d9-8b64-08a842ee575b"
      },
      "execution_count": 19,
      "outputs": [
        {
          "output_type": "display_data",
          "data": {
            "text/plain": [
              "<Figure size 800x600 with 1 Axes>"
            ],
            "image/png": "[encoded data removed]"
          },
          "metadata": {}
        }
      ]
    },
    {
      "cell_type": "code",
      "source": [],
      "metadata": {
        "id": "CmY1xIuPvmwB"
      },
      "execution_count": null,
      "outputs": []
    }
  ]
}